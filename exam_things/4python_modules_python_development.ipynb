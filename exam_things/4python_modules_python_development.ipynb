{
 "cells": [
  {
   "cell_type": "markdown",
   "metadata": {},
   "source": [
    "# Python Modules & Development Environment \n",
    "## Built in Modules\n",
    "### OS"
   ]
  },
  {
   "cell_type": "code",
   "execution_count": 7,
   "metadata": {},
   "outputs": [
    {
     "name": "stdout",
     "output_type": "stream",
     "text": [
      "<DirEntry '3generators_decorators_context_managers.ipynb'>\n",
      "<DirEntry 'docker'>\n",
      "<DirEntry 'text.txt'>\n",
      "<DirEntry '1data_structures_and_functions.ipynb'>\n",
      "<DirEntry 'ExamSynopsisPython.pdf'>\n",
      "<DirEntry '2pythonic_oop.ipynb'>\n",
      "<DirEntry 'strings.ipynb'>\n",
      "<DirEntry 'file'>\n",
      "<DirEntry '4python_modules_python_development.ipynb'>\n",
      "--- Now in docker folder ---\n",
      "<DirEntry 'Dockerfile'>\n",
      "<DirEntry 'DockerProcess.txt'>\n",
      "--- After making folder ---\n",
      "<DirEntry 'Dockerfile'>\n",
      "<DirEntry 'temp_folder'>\n",
      "<DirEntry 'DockerProcess.txt'>\n",
      "--- After removing folder ---\n",
      "<DirEntry 'Dockerfile'>\n",
      "<DirEntry 'DockerProcess.txt'>\n"
     ]
    }
   ],
   "source": [
    "# OS is a module used to navigate the OS the person is using\n",
    "# Here are some examples\n",
    "import os\n",
    "s = \"this\"\n",
    "\n",
    "# see a list of files and directories\n",
    "with os.scandir() as entries:\n",
    "    for entry in entries:\n",
    "        print(entry)\n",
    "\n",
    "os.chdir(\"docker\")\n",
    "print(\"--- Now in docker folder ---\")\n",
    "with os.scandir() as entries:\n",
    "    for entry in entries:\n",
    "        print(entry)\n",
    "\n",
    "os.mkdir(\"temp_folder\")\n",
    "\n",
    "print(\"--- After making folder ---\")\n",
    "with os.scandir() as entries:\n",
    "    for entry in entries:\n",
    "        print(entry)\n",
    "\n",
    "# Remove folder\n",
    "os.rmdir(\"temp_folder\")\n",
    "\n",
    "print(\"--- After removing folder ---\")\n",
    "with os.scandir() as entries:\n",
    "    for entry in entries:\n",
    "        print(entry)\n",
    "# Return to previous folder\n",
    "os.chdir(\"..\")"
   ]
  },
  {
   "cell_type": "markdown",
   "metadata": {},
   "source": [
    "### sys"
   ]
  },
  {
   "cell_type": "code",
   "execution_count": 2,
   "metadata": {},
   "outputs": [],
   "source": [
    "# sys is used to extract system information out like, for example, user arguments\n",
    "import sys\n",
    "import os\n",
    "\n",
    "#sys.argv[0] # file path from python3 -> testing.py <-- for example\n",
    "if len(sys.argv) > 1:\n",
    "    arg1 = sys.argv[1]\n",
    "    if len(sys.argv) > 2:\n",
    "        arg2 = sys.argv[2]\n",
    "# we can use additional information from that to make clever functions\n",
    "def make_folder(**key):    \n",
    "    if key[\"arg1\"] == \"mkdir\" and arg2:\n",
    "        try:\n",
    "            os.mkdir(key[\"arg2\"])\n",
    "        except FileExistsError:\n",
    "            print(f\"folder with name: {arg2} already exists\")\n",
    "\n",
    "make_folder(arg1=arg1, arg2=arg2)"
   ]
  },
  {
   "cell_type": "markdown",
   "metadata": {},
   "source": [
    "## Third pary modules\n",
    "### requests"
   ]
  },
  {
   "cell_type": "markdown",
   "metadata": {},
   "source": [
    "### Easy HTTP methods for python\n",
    "#### I have a script i can run that grabs all the html data from a wikipedia link and stores in on disk as well as reads from it."
   ]
  },
  {
   "cell_type": "markdown",
   "metadata": {},
   "source": [
    "## Development Environment\n",
    "\n",
    "## Docker + pip\n",
    "\n",
    "#### Docker can be used to run .py files with a team so that everyone has the exact same run environment\n",
    "\n",
    "#### There are some issues though, the team might have installed different modules trough pip, and this will make \n",
    "#### the code work for some but not for others.\n",
    "\n",
    "#### I will now demonstrate how to make it so that everyone can be on the same docker image\n",
    "\n",
    "1. A team member pushes to a repository the Dockerfile that is to be used by everyone, as well as requirements.txt\n",
    "2. Everyone on the team pulls this repository, and navigates to the docker folder, where these files are kept.\n",
    "3. Everyone on the team runs this in command: `docker build --tag team_image_name .`\n",
    "4. Once that completes, type `cd ..` to return to the parent folder.\n",
    "5. Lastly everyone runs: `docker run -it --rm -v ${PWD}:/docs team_image_name`\n",
    "    this will share the current folder directory with the docker conainers's /docs folder\n",
    "6. Run any python scripts you write from within this docker container.\n",
    "\n",
    "+ If the team agrees to install additional modules with pip. The process is as follows:\n",
    "1. Install the module with `pip <module_name_here> ` within the container.\n",
    "1. Navigate to the docker folder.\n",
    "2. Type: `pip freeze > requirements.txt` this will save all the installed modules and their dependecies in the file.\n",
    "3. Close the container, and push the changes to the repository.\n",
    "4. Annouce the push to the team so everyone can update it.\n",
    "5. run `docker rmi team_image_name`\n",
    "6. run, once again, `docker build --tag team_image_name .`\n",
    "7. From now on, the team will have the image with the pre-installed required modules ready to run\n"
   ]
  },
  {
   "cell_type": "markdown",
   "metadata": {},
   "source": [
    "### VS-Code\n",
    "## Working in vs-code for a while i think these are the best points i can make.\n",
    "\n",
    "## For the positives:\n",
    "+ It has great Intellisense, very useful for suggiestions and figuring out what functions objects have.\n",
    "+ It is easy to tweak to your liking, with custom fonts and colors, as well as codestyles.\n",
    "+ It can utilize formatters, so that the entire team's code looks consistent\n",
    "\n",
    "## And the negatives:\n",
    "+ It can train you to not think about accurate spelling or syntax, since it will correct it for you\n",
    "+ It likes to try to force you to use certain methods, even when you don't want to\n",
    "\n",
    "## Nodemon\n",
    "+ I used Nodemon extensively together with vscode and found that to be a truely winning combination.\n",
    "+ Using the command `nodemon --exec python3 filename.py` made for quick code writing and easy problem solving\n",
    "- However I had to remember to run my code in my python container before pushing, since it was so convenient to not do so.\n",
    "- It was largely replaced once I got the hang of the python REPL"
   ]
  },
  {
   "cell_type": "markdown",
   "metadata": {},
   "source": [
    "### Python REPL\n",
    "\n",
    "### Python comes bundled with a REPL for quick code testing, and its incredibly useful.\n",
    "### Here are some core features.\n",
    "+ `help(any_obj_type_here)` prints a ton of useful information for how to use class methods and what dunder methods do.\n",
    "+ You can make any class, object, function quicky on the fly to see if it worked the way you thought it would.\n",
    "+ Great for experimenting with the language.\n",
    "### There is another way of using the REPL, and that is trough Jupyter's Ipython.\n",
    "+ It has color coding and some assitance when you press Tab.\n",
    "+ Even better for experimenting, since it can reccomend methods on a tab press, for example\n",
    "+ As well as having colored printouts, that makes it far easier to read errors, and see what you are typing"
   ]
  },
  {
   "cell_type": "markdown",
   "metadata": {},
   "source": [
    "## Honorable Mentions\n",
    "### Jupyter Notebook\n",
    "+ Extremely good note keeping tool where you can write with Markdown your text and store code snippets for later retrospection"
   ]
  },
  {
   "cell_type": "markdown",
   "metadata": {},
   "source": []
  }
 ],
 "metadata": {
  "interpreter": {
   "hash": "31f2aee4e71d21fbe5cf8b01ff0e069b9275f58929596ceb00d14d90e3e16cd6"
  },
  "kernelspec": {
   "display_name": "Python 3.8.6 64-bit",
   "name": "python3"
  },
  "language_info": {
   "codemirror_mode": {
    "name": "ipython",
    "version": 3
   },
   "file_extension": ".py",
   "mimetype": "text/x-python",
   "name": "python",
   "nbconvert_exporter": "python",
   "pygments_lexer": "ipython3",
   "version": "3.8.6"
  },
  "orig_nbformat": 4
 },
 "nbformat": 4,
 "nbformat_minor": 2
}