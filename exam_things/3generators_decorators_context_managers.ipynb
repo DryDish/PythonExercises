{
 "cells": [
  {
   "cell_type": "markdown",
   "metadata": {},
   "source": [
    "# Decorators, Generators & Context Managers"
   ]
  },
  {
   "cell_type": "markdown",
   "metadata": {},
   "source": [
    "## Decorators\n",
    "### How and why\n",
    "#### Decorators allow us to add extra functionality to a function without manipulating the function directly\n",
    "#### example:"
   ]
  },
  {
   "cell_type": "code",
   "execution_count": 22,
   "metadata": {},
   "outputs": [
    {
     "name": "stdout",
     "output_type": "stream",
     "text": [
      "execution time (ms):  842\n",
      "150481453335431997802448008259520\n"
     ]
    }
   ],
   "source": [
    "import time\n",
    "# Basic function\n",
    "# multiplies a*a x times\n",
    "def count(a, times):\n",
    "    total = 0\n",
    "    for a in range(times):\n",
    "        total = a*a\n",
    "    return total\n",
    "\n",
    "# slow on purpose\n",
    "count(10, 10000000)\n",
    "\n",
    "# Now i would like to be able to time this, i can do that by making a decorator function\n",
    "# Pie syntax or annotation\n",
    "#  Function that takes another function as a parameter\n",
    "def func_timer(function):\n",
    "    # Wrapper inner function that accepts any amount of arguments\n",
    "    def wrapper(*args, **kwargs):\n",
    "        time_start = round(time.time() * 1000)\n",
    "        value = function(*args)\n",
    "        timer_end = round(time.time() * 1000)\n",
    "        print(\"execution time (ms): \", timer_end - time_start)\n",
    "        return value  # return any value that function might make\n",
    "    # Returns the wrapper (functionality, function, functionality)\n",
    "    return wrapper\n",
    "\n",
    "\n",
    "# now we need to annotate our count function with func_timer\n",
    "# Deleting just in case\n",
    "del count\n",
    "\n",
    "@func_timer\n",
    "def count(a, times):\n",
    "    total = []\n",
    "    for x in range(1, times):\n",
    "        total.append(a*x)\n",
    "    return total[-1]\n",
    "\n",
    "# Now simply calling count, it will be sent inside func_timer\n",
    "x = count(12212312123121121123123232, 12322111)\n",
    "print(x)\n"
   ]
  },
  {
   "cell_type": "markdown",
   "metadata": {},
   "source": [
    "## "
   ]
  },
  {
   "cell_type": "markdown",
   "metadata": {},
   "source": [
    "## Generators\n",
    "### How and why"
   ]
  },
  {
   "cell_type": "code",
   "execution_count": 23,
   "metadata": {},
   "outputs": [
    {
     "name": "stdout",
     "output_type": "stream",
     "text": [
      "execution time (ms):  0\n",
      "150481453335431997802448008259520\n"
     ]
    }
   ],
   "source": [
    "# Generators help us go through massive amounts of data without entering memory issues\n",
    "# They do this by yielding results instead of returning, this does not store them in memory\n",
    "# And as a result they get to do large operations, effectively, in chunks\n",
    "\n",
    "# We can change our count function to yield instead, \n",
    "# and iterate through the generator for our result instead\n",
    "\n",
    "# This time the function completes almost instantly\n",
    "@func_timer\n",
    "def count(a, times):\n",
    "    total = 0\n",
    "    for x in range(1, times):\n",
    "        total =  a*x\n",
    "        yield total\n",
    "\n",
    "# Now x is not a number, but a generator object\n",
    "x = count(12212312123121121123123232, 12322111)\n",
    "\n",
    "# We take the last value from our generator object made to a list\n",
    "number = list(x)[-1]\n",
    "# resolved  faster\n",
    "print(number)"
   ]
  },
  {
   "cell_type": "markdown",
   "metadata": {},
   "source": [
    "## Context Managers\n",
    "### How and why"
   ]
  },
  {
   "cell_type": "code",
   "execution_count": 24,
   "metadata": {},
   "outputs": [
    {
     "name": "stdout",
     "output_type": "stream",
     "text": [
      "Hello there, this is some sample text!\n",
      "\n",
      "What's it like reading this?\n",
      "\n",
      "Interesting isn't it?\n",
      "\n",
      "Well, bye now!\n",
      "\n",
      "---- Failed to readline on a close file ----\n",
      "\n"
     ]
    }
   ],
   "source": [
    "# Context managers take care of tasks within a specific tasks\n",
    "# A simple example is a context manager for files\n",
    "\n",
    "with open(\"text.txt\", \"r\") as file:\n",
    "    text = file.readlines()\n",
    "    for data in text:\n",
    "        print(data)\n",
    "\n",
    "try:\n",
    "    file.readline()\n",
    "except ValueError:\n",
    "    print(\"\\n---- Failed to readline on a closed file ----\\n\")\n",
    "    pass\n",
    "#\n",
    "# the context manager has opened the file for us, we did our operations,\n",
    "# and it closed it behind us\n",
    "# I would normally have to do this:\n",
    "\n",
    "# file = open(\"text.txt\", \"r\") \n",
    "# operations here\n",
    "# file.close()"
   ]
  },
  {
   "cell_type": "code",
   "execution_count": 25,
   "metadata": {},
   "outputs": [
    {
     "name": "stdout",
     "output_type": "stream",
     "text": [
      "execution time (ms):  0\n",
      "150481453335431997802448008259520\n"
     ]
    }
   ],
   "source": [
    "# Now we implement our own\n",
    "# A context manager needs the dunder methods __enter__ and __exit__\n",
    "# Alternatively we can use the @contextmanager annotation\n",
    "from contextlib import contextmanager\n",
    "\n",
    "x = count(12212312123121121123123232, 12322111)\n",
    "\n",
    "@contextmanager\n",
    "def get_last_number(gen):\n",
    "    try:\n",
    "        yield gen\n",
    "    finally:\n",
    "        gen.close()\n",
    "\n",
    "with get_last_number(x) as y:\n",
    "    print(list(y)[-1])\n",
    "\n"
   ]
  }
 ],
 "metadata": {
  "interpreter": {
   "hash": "31f2aee4e71d21fbe5cf8b01ff0e069b9275f58929596ceb00d14d90e3e16cd6"
  },
  "kernelspec": {
   "display_name": "Python 3.8.6 64-bit",
   "name": "python3"
  },
  "language_info": {
   "codemirror_mode": {
    "name": "ipython",
    "version": 3
   },
   "file_extension": ".py",
   "mimetype": "text/x-python",
   "name": "python",
   "nbconvert_exporter": "python",
   "pygments_lexer": "ipython3",
   "version": "3.8.6"
  },
  "orig_nbformat": 4
 },
 "nbformat": 4,
 "nbformat_minor": 2
}