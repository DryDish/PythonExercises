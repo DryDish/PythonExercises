{
 "cells": [
  {
   "cell_type": "markdown",
   "metadata": {},
   "source": [
    "# Pythonic OOP\n",
    "## Classes creation and Instatiation"
   ]
  },
  {
   "cell_type": "code",
   "execution_count": 79,
   "metadata": {},
   "outputs": [
    {
     "name": "stdout",
     "output_type": "stream",
     "text": [
      "Captain < name: Kirk, age: 28, position: Captain, id: 2001  >\n",
      "Captain Kirk's catchphrase is : 'To infinity and beyond!'\n",
      "Sargent < name: Jhon, age: 39, position: Sargent, id: 4012  >\n",
      "Sargent Jhon's catchphrase is : 'Do as i command!'\n"
     ]
    }
   ],
   "source": [
    "# Classes creation\n",
    "class SpaceMan():\n",
    "    def __init__(self, name, age, position, id):\n",
    "        # Instance attribute\n",
    "        self.name = name\n",
    "        self.age = age\n",
    "        self.position = position\n",
    "        self.id = id\n",
    "        self.type = \"Human\"\n",
    "\n",
    "    def catchphrase(self, speech):\n",
    "        return f\"{self.position} {self.name}'s catchphrase is : '{speech}'\"\n",
    "\n",
    "    def __str__(self):\n",
    "        return f\"{str(self.__class__)[17:-2]} < name: {self.name}, age: {self.age}, position: {self.position}, id: {self.id}  >\"\n",
    "\n",
    "\n",
    "class Captain(SpaceMan):\n",
    "    def __init__(self, name, age, id):\n",
    "        super().__init__(name, age, \"Captain\", id)\n",
    "\n",
    "    def catchphrase(self, speech=\"To infinity and beyond!\"):\n",
    "        return super().catchphrase(speech)\n",
    "\n",
    "class Sargent(SpaceMan):\n",
    "    def __init__(self, name, age, id):\n",
    "        super().__init__(name, age, \"Sargent\", id)\n",
    "\n",
    "    def catchphrase(self, speech=\"Do as i command!\"):\n",
    "        return super().catchphrase(speech)\n",
    "\n",
    "# Instatiation\n",
    "kirk = Captain(\"Kirk\", 28, 2001)\n",
    "jhon = Sargent(\"Jhon\", 39, 4012)\n",
    "print(kirk)\n",
    "print(kirk.catchphrase())\n",
    "\n",
    "print(jhon)\n",
    "print(jhon.catchphrase())\n",
    "\n"
   ]
  },
  {
   "cell_type": "markdown",
   "metadata": {},
   "source": [
    "## Encapsulation\n",
    "### public attributes"
   ]
  },
  {
   "cell_type": "code",
   "execution_count": 80,
   "metadata": {},
   "outputs": [
    {
     "name": "stdout",
     "output_type": "stream",
     "text": [
      "Sargent < name: Jhon, age: 39, position: Supreme Leader, id: 4012  >\n"
     ]
    }
   ],
   "source": [
    "# Potential problem, variables are currently public\n",
    "\n",
    "# Sneaky Jhon could simply make himself Supreme Leader!\n",
    "jhon.position = \"Supreme Leader\"\n",
    "\n",
    "print(jhon)\n",
    "\n",
    "# Restoring order..\n",
    "del jhon"
   ]
  },
  {
   "cell_type": "markdown",
   "metadata": {},
   "source": [
    "### private attributes"
   ]
  },
  {
   "cell_type": "code",
   "execution_count": 81,
   "metadata": {},
   "outputs": [
    {
     "name": "stdout",
     "output_type": "stream",
     "text": [
      "Sargent < name: Jhon, age: 39, position: Sargent, id: 4012  >\n"
     ]
    }
   ],
   "source": [
    "# A way to fix this would be to make position a private attribute, and only set it with a getter and setter\n",
    "# With some restrictions to prevent over ranking\n",
    "del SpaceMan\n",
    "del Sargent\n",
    "\n",
    "\n",
    "class SpaceMan():\n",
    "    def __init__(self, name, age, position, id):\n",
    "        # Instance attribute\n",
    "        self.name = name\n",
    "        self.age = age\n",
    "        self.__position = position\n",
    "        self.id = id\n",
    "        self.type = \"Human\"\n",
    "\n",
    "    def catchphrase(self, speech):\n",
    "        return f\"{self.__position} {self.name}'s catchphrase is : '{speech}'\"\n",
    "\n",
    "    def __str__(self):\n",
    "        return f\"{str(self.__class__)[17:-2]} < name: {self.name}, age: {self.age}, position: {self.__position}, id: {self.id}  >\"\n",
    "\n",
    "\n",
    "class Sargent(SpaceMan):\n",
    "    def __init__(self, name, age, id):\n",
    "        super().__init__(name, age, \"Sargent\", id)\n",
    "\n",
    "    def catchphrase(self, speech=\"Do as i command!\"):\n",
    "        return super().catchphrase(speech)\n",
    "    \n",
    "    def __str__(self):\n",
    "        return f\"{str(self.__class__)[17:-2]} < name: {self.name}, age: {self.age}, position: {self._SpaceMan__position}, id: {self.id}  >\"\n",
    "\n",
    "# Now he can no longer access the attribute, its private\n",
    "jhon = Sargent(\"Jhon\", 39, 4012)\n",
    "\n",
    "try:\n",
    "    jhon.__position = \"Supreme Leader\"\n",
    "except Exception:\n",
    "    pass\n",
    "\n",
    "print(jhon)\n"
   ]
  },
  {
   "cell_type": "markdown",
   "metadata": {},
   "source": [
    "## @properties \n",
    "### How to use the decorator and why"
   ]
  },
  {
   "cell_type": "code",
   "execution_count": 82,
   "metadata": {},
   "outputs": [
    {
     "name": "stdout",
     "output_type": "stream",
     "text": [
      "Sargent < name: Jhon, age: 39, position: Sargent, id: 4012  >\n",
      "Sargent < name: Jhon, age: 39, position: Sargent 10, id: 4012  >\n",
      "Sargent < name: Jhon, age: 39, position: Sargent, id: 4012  >\n"
     ]
    }
   ],
   "source": [
    "# Now what if we wanted to give him limited access to that variable? \n",
    "# It would be very clunky to make a getter and setter for it, so instead\n",
    "# We can use properties\n",
    "del SpaceMan\n",
    "del Sargent\n",
    "del Captain\n",
    "\n",
    "class SpaceMan():\n",
    "    # Class Attribute\n",
    "    type = \"Human\"\n",
    "\n",
    "    def __init__(self, name, age, position, id):\n",
    "        # Instance attribute\n",
    "        self.name = name\n",
    "        self.age = age\n",
    "        self.position = position\n",
    "        self.id = id\n",
    "\n",
    "    @property\n",
    "    def position(self):\n",
    "        return self.__position\n",
    "    \n",
    "    @position.setter\n",
    "    def position(self, position):\n",
    "        if  \"Captain\" not in str(self.__class__):\n",
    "            if not \"Sargent\" in position:\n",
    "                self.__position = \"Sargent\"\n",
    "            else:\n",
    "                self.__position = position\n",
    "        else:\n",
    "            self.__position = position\n",
    "    def catchphrase(self, speech):\n",
    "        return f\"{self.name}'s catchphrase is :' '{speech}'\"\n",
    "\n",
    "    def __str__(self):\n",
    "        return f\"{str(self.__class__)[17:-2]} < name: {self.name}, age: {self.age}, position: {self.__position}, id: {self.id}  >\"\n",
    "\n",
    "    def __repr__(self):\n",
    "        return f'[{str(self.__class__)[17:-2]} ({self.name}\", {self.age}, \"{self.position}\", {self.id}]'\n",
    "\n",
    "class Captain(SpaceMan):\n",
    "    def __init__(self, name, age, id):\n",
    "        super().__init__(name, age, \"Captain\", id)\n",
    "\n",
    "    def catchphrase(self, speech=\"To infinity and beyond!\"):\n",
    "        return super().catchphrase(speech)\n",
    "\n",
    "\n",
    "class Sargent(SpaceMan):\n",
    "    def __init__(self, name, age, id):\n",
    "        super().__init__(name, age, \"Sargent\", id)\n",
    "\n",
    "    def catchphrase(self, speech=\"Do as i command!\"):\n",
    "        return super().catchphrase(speech)\n",
    "\n",
    "\n",
    "\n",
    "jhon = Sargent(\"Jhon\", 39, 4012)\n",
    "# Good old jhon is back\n",
    "print(jhon)\n",
    "# Oh Sargent 10, nice promotion!\n",
    "jhon.position = \"Sargent 10\"\n",
    "print(jhon)\n",
    "# Jhon being sneaky once more\n",
    "jhon.position = \"Supreme Leader\"\n",
    "# But now its rigged against him, demoted to Sargent once more\n",
    "print(jhon)"
   ]
  },
  {
   "cell_type": "markdown",
   "metadata": {},
   "source": [
    "## "
   ]
  },
  {
   "cell_type": "markdown",
   "metadata": {},
   "source": [
    "## Datamodel\n",
    "### How & why"
   ]
  },
  {
   "cell_type": "code",
   "execution_count": 83,
   "metadata": {},
   "outputs": [
    {
     "name": "stdout",
     "output_type": "stream",
     "text": [
      "[[Sargent (Jhon\", 39, \"Sargent 10\", 4012], [Captain (Kirk\", 28, \"Captain\", 2001]]\n",
      "Captain < name: Kirk, age: 28, position: Captain, id: 2001  >  -  Sargent < name: Jhon, age: 39, position: Sargent 10, id: 4012  >\n"
     ]
    }
   ],
   "source": [
    "# Python has many built-in methods that we can use to call magic functions\n",
    "# For example, since we implemented __str__ we can call print(jhon) and have human legible output\n",
    "del kirk\n",
    "del jhon\n",
    "\n",
    "\n",
    "kirk = Captain(\"Kirk\", 28, 2001)\n",
    "jhon = Sargent(\"Jhon\", 39, 4012)\n",
    "\n",
    "jhon.position = \"Sargent 10\"\n",
    "spaceman_list = [jhon, kirk] \n",
    "print(spaceman_list)      # calls __repr__ of each class\n",
    "print(kirk, \" - \", jhon)  # calls __str__ of the each class"
   ]
  }
 ],
 "metadata": {
  "interpreter": {
   "hash": "31f2aee4e71d21fbe5cf8b01ff0e069b9275f58929596ceb00d14d90e3e16cd6"
  },
  "kernelspec": {
   "display_name": "Python 3.8.6 64-bit",
   "name": "python3"
  },
  "language_info": {
   "codemirror_mode": {
    "name": "ipython",
    "version": 3
   },
   "file_extension": ".py",
   "mimetype": "text/x-python",
   "name": "python",
   "nbconvert_exporter": "python",
   "pygments_lexer": "ipython3",
   "version": "3.8.6"
  },
  "orig_nbformat": 4
 },
 "nbformat": 4,
 "nbformat_minor": 2
}