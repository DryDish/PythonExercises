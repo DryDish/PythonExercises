{
 "cells": [
  {
   "cell_type": "markdown",
   "metadata": {},
   "source": [
    "# Data structures in python\n",
    "---\n",
    "## List\n",
    "\n",
    "#### Lists are orderderd, mutable, allow duplicates and indexed "
   ]
  },
  {
   "cell_type": "code",
   "execution_count": 389,
   "metadata": {},
   "outputs": [
    {
     "name": "stdout",
     "output_type": "stream",
     "text": [
      "[12, 'hello', ('four', 7), {'name': 'peter', 'age': 28}]\n"
     ]
    }
   ],
   "source": [
    "# Example list\n",
    "sample_list = [12, \"hello\", (\"four\", 7), {\"name\": \"peter\", \"age\": 28}]\n",
    "print(sample_list)"
   ]
  },
  {
   "cell_type": "markdown",
   "metadata": {},
   "source": [
    "## Accessing data"
   ]
  },
  {
   "cell_type": "code",
   "execution_count": 390,
   "metadata": {},
   "outputs": [
    {
     "name": "stdout",
     "output_type": "stream",
     "text": [
      "\n",
      "By index 0: 12\n",
      "By negative index -1: {'name': 'peter', 'age': 28}\n"
     ]
    }
   ],
   "source": [
    "# By Index\n",
    "print(\"\\nBy index 0:\", sample_list[0])\n",
    "print(\"By negative index -1:\", sample_list[-1])"
   ]
  },
  {
   "cell_type": "code",
   "execution_count": 391,
   "metadata": {},
   "outputs": [
    {
     "name": "stdout",
     "output_type": "stream",
     "text": [
      "By slice: [('four', 7)]\n",
      "By slice: [12, 'hello', ('four', 7)]\n",
      "By slice, reversed:\n",
      " [{'name': 'peter', 'age': 28}, ('four', 7), 'hello', 12]\n"
     ]
    }
   ],
   "source": [
    "# By Slice\n",
    "print(\"By slice:\", sample_list[2:3])\n",
    "print(\"By slice:\", sample_list[:3])\n",
    "# Slice, but reverse step\n",
    "print(\"By slice, reversed:\\n\", sample_list[::-1])"
   ]
  },
  {
   "cell_type": "code",
   "execution_count": 392,
   "metadata": {},
   "outputs": [
    {
     "name": "stdout",
     "output_type": "stream",
     "text": [
      "12\n",
      "hello\n",
      "('four', 7)\n",
      "{'name': 'peter', 'age': 28}\n",
      "\n"
     ]
    }
   ],
   "source": [
    "# By Iteration\n",
    "for item in sample_list:\n",
    "    print(item)\n",
    "print()"
   ]
  },
  {
   "cell_type": "code",
   "execution_count": 393,
   "metadata": {},
   "outputs": [
    {
     "name": "stdout",
     "output_type": "stream",
     "text": [
      "By list comprehension, all items: [12, 'hello', ('four', 7), {'name': 'peter', 'age': 28}]\n",
      "By list comprehension, selective: [12]\n"
     ]
    }
   ],
   "source": [
    "# By comprehension - returns a new list\n",
    "# All items\n",
    "print(\"By list comprehension, all items:\", [item for item in sample_list])\n",
    "# int larger than 10\n",
    "print(\"By list comprehension, selective:\", [number for number in sample_list if type(number) is int and number > 10])"
   ]
  },
  {
   "cell_type": "markdown",
   "metadata": {},
   "source": [
    "## Inserting Data\n"
   ]
  },
  {
   "cell_type": "code",
   "execution_count": 394,
   "metadata": {},
   "outputs": [],
   "source": [
    "# Example list\n",
    "sample_list = []\n"
   ]
  },
  {
   "cell_type": "code",
   "execution_count": 395,
   "metadata": {},
   "outputs": [
    {
     "name": "stdout",
     "output_type": "stream",
     "text": [
      "['List Things', 12]\n"
     ]
    }
   ],
   "source": [
    "# Append(object)\n",
    "sample_list.append(\"List Things\")\n",
    "sample_list.append(12)\n",
    "print(sample_list)"
   ]
  },
  {
   "cell_type": "code",
   "execution_count": 396,
   "metadata": {},
   "outputs": [
    {
     "name": "stdout",
     "output_type": "stream",
     "text": [
      "['List Things', 'entry', 12, 'last!']\n"
     ]
    }
   ],
   "source": [
    "# Insert(index, object)\n",
    "sample_list.insert(1, \"entry\")\n",
    "sample_list.insert(len(sample_list), \"last!\")\n",
    "print(sample_list)"
   ]
  },
  {
   "cell_type": "code",
   "execution_count": 397,
   "metadata": {},
   "outputs": [
    {
     "name": "stdout",
     "output_type": "stream",
     "text": [
      "['List Things', 'entry', 12, 'last!', 'sample', 'data', 'this', 'too']\n"
     ]
    }
   ],
   "source": [
    "# Extend(iterable)\n",
    "sample_tuple = (\"sample\", \"data\")\n",
    "sample_list.extend(sample_tuple)\n",
    "sample_list.extend({\"a\":\"this\", \"b\":\"too\"}.values())\n",
    "print(sample_list)"
   ]
  },
  {
   "cell_type": "markdown",
   "metadata": {},
   "source": [
    "## Altering Data"
   ]
  },
  {
   "cell_type": "code",
   "execution_count": 398,
   "metadata": {},
   "outputs": [
    {
     "name": "stdout",
     "output_type": "stream",
     "text": [
      "['String', 12, {'key': 23}, [1, 2, 3]]\n"
     ]
    }
   ],
   "source": [
    "# Example list\n",
    "sample_list = [\"String\", 12, {\"key\": 23}, [1, 2, 3]]\n",
    "print(sample_list)"
   ]
  },
  {
   "cell_type": "code",
   "execution_count": 399,
   "metadata": {},
   "outputs": [
    {
     "name": "stdout",
     "output_type": "stream",
     "text": [
      "Altered index 1: ['String', 20, {'key': 23}, [1, 2, 3]]\n",
      "Altered value of index 2 with dict key 'key': ['String', 20, {'key': 99}, [1, 2, 3]]\n",
      "Altered value of index 1 within index 3  ['String', 20, {'key': 99}, [1, 4, 3]]\n"
     ]
    }
   ],
   "source": [
    "# By Index\n",
    "sample_list[1] = 20\n",
    "print(\"Altered index 1:\",sample_list)\n",
    "sample_list[2][\"key\"] = 99\n",
    "print(\"Altered value of index 2 with dict key 'key':\", sample_list)\n",
    "sample_list[3][1] = 4\n",
    "print(\"Altered value of index 1 within index 3 \", sample_list)"
   ]
  },
  {
   "cell_type": "code",
   "execution_count": 400,
   "metadata": {},
   "outputs": [
    {
     "name": "stdout",
     "output_type": "stream",
     "text": [
      "Altered values from index 2 to 3: ['String', 'smol', 'entries', 'added']\n"
     ]
    }
   ],
   "source": [
    "# By range\n",
    "sample_list[1:4] = [\"smol\", \"entries\", \"added\"]\n",
    "print(\"Altered values from index 2 to 3:\", sample_list)"
   ]
  },
  {
   "cell_type": "code",
   "execution_count": 401,
   "metadata": {},
   "outputs": [
    {
     "name": "stdout",
     "output_type": "stream",
     "text": [
      "['STRING', 'SMOL', 'ENTRIES', 'ADDED']\n"
     ]
    }
   ],
   "source": [
    "# By iteration\n",
    "for index in range(len(sample_list)):\n",
    "    sample_list[index] = sample_list[index].upper()\n",
    "print(sample_list)"
   ]
  },
  {
   "cell_type": "code",
   "execution_count": 402,
   "metadata": {},
   "outputs": [
    {
     "name": "stdout",
     "output_type": "stream",
     "text": [
      "['string', 'SMOL', 'entries', 'added']\n",
      "['String', 'Smol', 'Entries', 'Added']\n"
     ]
    }
   ],
   "source": [
    "# By comprehension - returns a new list\n",
    "print([item.lower() if len(item) > 4 else item for item in sample_list])\n",
    "print([item.title() for item in sample_list])"
   ]
  },
  {
   "cell_type": "markdown",
   "metadata": {},
   "source": [
    "## Removing Entries"
   ]
  },
  {
   "cell_type": "code",
   "execution_count": 403,
   "metadata": {},
   "outputs": [
    {
     "name": "stdout",
     "output_type": "stream",
     "text": [
      "[0, 1, 4, 9, 16]\n"
     ]
    }
   ],
   "source": [
    "sample_list = [x*x for x in range (5)]\n",
    "print(sample_list)"
   ]
  },
  {
   "cell_type": "code",
   "execution_count": 404,
   "metadata": {},
   "outputs": [
    {
     "name": "stdout",
     "output_type": "stream",
     "text": [
      "sample_list with double entry [0, 1, 4, 4, 9, 16]\n",
      "sample_lint with 4 removed [0, 1, 9, 16]\n"
     ]
    }
   ],
   "source": [
    "# remove(object)\n",
    "sample_list.insert(2, 4)\n",
    "print(\"sample_list with double entry\", sample_list)\n",
    "\n",
    "while 4 in sample_list:\n",
    "    sample_list.remove(4)\n",
    "print(\"sample_lint with 4 removed\", sample_list)\n",
    "# sample_list.remove(4) # Will give error due to item not in list"
   ]
  },
  {
   "cell_type": "code",
   "execution_count": 405,
   "metadata": {},
   "outputs": [
    {
     "name": "stdout",
     "output_type": "stream",
     "text": [
      "Entry removed at index 3: [0, 1, 16]\n",
      "Last entry removed: [0, 1]\n"
     ]
    }
   ],
   "source": [
    "# pop(index)\n",
    "sample_list.pop(2)\n",
    "print(\"Entry removed at index 3:\", sample_list)\n",
    "\n",
    "sample_list.pop()\n",
    "print(\"Last entry removed:\", sample_list)"
   ]
  },
  {
   "cell_type": "code",
   "execution_count": 406,
   "metadata": {},
   "outputs": [
    {
     "name": "stdout",
     "output_type": "stream",
     "text": [
      "sample_list now: [1]\n"
     ]
    }
   ],
   "source": [
    "# del list[index]\n",
    "del sample_list[0]\n",
    "print(\"sample_list now:\", sample_list)  # only 1 entry left after this"
   ]
  },
  {
   "cell_type": "code",
   "execution_count": 407,
   "metadata": {},
   "outputs": [
    {
     "name": "stdout",
     "output_type": "stream",
     "text": [
      "[]\n"
     ]
    }
   ],
   "source": [
    "# clear()\n",
    "sample_list.clear()\n",
    "\n",
    "print(sample_list)"
   ]
  },
  {
   "cell_type": "markdown",
   "metadata": {},
   "source": [
    "### Misc list methods"
   ]
  },
  {
   "cell_type": "code",
   "execution_count": 408,
   "metadata": {},
   "outputs": [
    {
     "name": "stdout",
     "output_type": "stream",
     "text": [
      "sample list: [(1, 2), (2, 2), (3, 2), (2, 1), (2, 2), (1, 5), (10, 4), (10, 1), (3, 1)]\n",
      "reversed sample_list [(3, 1), (10, 1), (10, 4), (1, 5), (2, 2), (2, 1), (3, 2), (2, 2), (1, 2)]\n",
      "Index of irst instance of (2,2) 4\n",
      "Count instances of (2,2) 2\n",
      "sorted sample_list [(1, 2), (1, 5), (2, 1), (2, 2), (2, 2), (3, 1), (3, 2), (10, 1), (10, 4)]\n",
      "inverted, sorted sample_list [(10, 4), (10, 1), (3, 2), (3, 1), (2, 2), (2, 2), (2, 1), (1, 5), (1, 2)]\n",
      "sorted sample_list [(2, 1), (3, 1), (10, 1), (1, 2), (2, 2), (2, 2), (3, 2), (10, 4), (1, 5)]\n"
     ]
    }
   ],
   "source": [
    "sample_list = [(1, 2), (2, 2), (3, 2), (2, 1), (2, 2), (1, 5), (10, 4), (10, 1), (3, 1)]\n",
    "print(\"sample list:\", sample_list)\n",
    "# reverse()\n",
    "sample_list.reverse()\n",
    "print(\"reversed sample_list\", sample_list)\n",
    "\n",
    "# Index\n",
    "print(\"Index of irst instance of (2,2)\", sample_list.index((2,2)))\n",
    "\n",
    "# Count\n",
    "print(\"Count instances of (2,2)\", sample_list.count((2,2)))\n",
    "\n",
    "# Sort\n",
    "sample_list.sort()\n",
    "print(\"sorted sample_list\", sample_list)\n",
    "\n",
    "sample_list.sort(reverse=True)\n",
    "print(\"inverted, sorted sample_list\", sample_list)\n",
    "\n",
    "sample_list.sort(key=lambda x: (x[1], x[0]))\n",
    "print(\"sorted sample_list\", sample_list)"
   ]
  },
  {
   "cell_type": "markdown",
   "metadata": {},
   "source": [
    "---\n",
    "## Tuple\n",
    "#### Tuples are orderderd, immurable, allow duplicates and indexed"
   ]
  },
  {
   "cell_type": "code",
   "execution_count": 409,
   "metadata": {},
   "outputs": [
    {
     "name": "stdout",
     "output_type": "stream",
     "text": [
      "sample_tuple: ('this', 2, 'is a', ['tuple'])\n",
      "By index: is a\n",
      "By index: ['tuple']\n",
      "By range: ('this', 2)\n",
      "By iteration:\n",
      "this\n",
      "2\n",
      "is a\n",
      "['tuple']\n",
      "New, changed tuple ('that', 2, 'is a', ['tuple'])\n"
     ]
    }
   ],
   "source": [
    "# Declaration\n",
    "sample_tuple = (\"this\", 2, \"is a\", [\"tuple\"])\n",
    "print(\"sample_tuple:\", sample_tuple)\n",
    "\n",
    "# Retreive by index\n",
    "print(\"By index:\", sample_tuple[2])\n",
    "print(\"By index:\", sample_tuple[-1])\n",
    "# Retreive by range\n",
    "print(\"By range:\", sample_tuple[0:2])\n",
    "\n",
    "# Retreive by Iteration\n",
    "print(\"By iteration:\")\n",
    "for item in sample_tuple:\n",
    "    print(item)\n",
    "\n",
    "# Since its immutable we cant update, or alter, we must make a new tuple\n",
    "temp_list = list(sample_tuple)\n",
    "temp_list[0] = \"that\"\n",
    "sample_tuple = tuple(temp_list)\n",
    "\n",
    "print(\"New, changed tuple\", sample_tuple) \n"
   ]
  },
  {
   "cell_type": "markdown",
   "metadata": {},
   "source": [
    "### Unpacking"
   ]
  },
  {
   "cell_type": "code",
   "execution_count": 410,
   "metadata": {},
   "outputs": [
    {
     "name": "stdout",
     "output_type": "stream",
     "text": [
      "a: that\n",
      "b: 2\n",
      "c: is a\n",
      "d: tuple\n"
     ]
    }
   ],
   "source": [
    "a, b, c, d = sample_tuple\n",
    "\n",
    "print(\"a:\", a)\n",
    "print(\"b:\", b)\n",
    "print(\"c:\", c)\n",
    "print(\"d:\", d[0])\n"
   ]
  },
  {
   "cell_type": "markdown",
   "metadata": {},
   "source": [
    "## Set\n",
    "#### Sets are *un*orderderd, mutable (but unchangeable), do not allow duplicates and *un*indexed"
   ]
  },
  {
   "cell_type": "code",
   "execution_count": 411,
   "metadata": {},
   "outputs": [
    {
     "name": "stdout",
     "output_type": "stream",
     "text": [
      "sample_set: {1, 'this', 3, 2, 5, 6, 'that', 'the other'}\n",
      "1\n",
      "this\n",
      "3\n",
      "2\n",
      "5\n",
      "6\n",
      "that\n",
      "the other\n",
      "is 'this' in sample_set?: True\n"
     ]
    }
   ],
   "source": [
    "sample_set = {\"this\", \"that\", \"this\", \"the other\", 1, 3, 2, 6, 5}\n",
    "\n",
    "# Accessing the values\n",
    "# Print\n",
    "print(\"sample_set:\", sample_set) # random order\n",
    "\n",
    "# Iteration\n",
    "for item in sample_set:\n",
    "    print(item)\n",
    "\n",
    "# Checking of contents\n",
    "print(\"is 'this' in sample_set?:\", \"this\" in sample_set)"
   ]
  },
  {
   "cell_type": "code",
   "execution_count": 412,
   "metadata": {},
   "outputs": [
    {
     "name": "stdout",
     "output_type": "stream",
     "text": [
      "sample_set with 'peter' added: {'peter', 1, 'this', 3, 2, 5, 6, 'that', 'the other'}\n",
      "sample_set updated with a list of str: {'peter', 1, 'this', 3, 2, 5, 6, 'thick', 'that', 'the other', 'thin'}\n"
     ]
    }
   ],
   "source": [
    "# Altering of contents is not possible\n",
    "# But we can add new items\n",
    "sample_set.add(\"peter\")\n",
    "print(\"sample_set with 'peter' added:\", sample_set)\n",
    "\n",
    "# Update(iterable)\n",
    "sample_set.update([\"thin\", \"thick\"])\n",
    "print(\"sample_set updated with a list of str:\", sample_set)"
   ]
  },
  {
   "cell_type": "code",
   "execution_count": 413,
   "metadata": {},
   "outputs": [
    {
     "name": "stdout",
     "output_type": "stream",
     "text": [
      "sample_set with peter removed {1, 'this', 3, 2, 5, 6, 'thick', 'that', 'the other', 'thin'}\n",
      "Current sample_set: {1, 'this', 3, 2, 5, 6, 'thick', 'that', 'the other'}\n",
      "sample_set after pop: {'this', 3, 2, 5, 6, 'thick', 'that', 'the other'}\n",
      "Cleared sample_set: set()\n"
     ]
    }
   ],
   "source": [
    "# Removal of elements\n",
    "\n",
    "# Remove(element)\n",
    "sample_set.remove(\"peter\")\n",
    "print(\"sample_set with peter removed\", sample_set)\n",
    "# sample_set.remove(\"peter\") will throw an error if executed again\n",
    "\n",
    "# discard(element)\n",
    "sample_set.discard(\"peter\") # will not throw error, but will not change either\n",
    "sample_set.discard(\"thin\")\n",
    "print(\"Current sample_set:\", sample_set)\n",
    "\n",
    "# pop()\n",
    "sample_set.pop() \n",
    "print(\"sample_set after pop:\", sample_set)\n",
    "\n",
    "# clear()\n",
    "sample_set.clear()\n",
    "print(\"Cleared sample_set:\", sample_set)\n",
    "\n",
    "# del\n",
    "del sample_set \n",
    "#print(sample_set) # throws error since sample_set is not defined\n"
   ]
  },
  {
   "cell_type": "markdown",
   "metadata": {},
   "source": [
    "### Important Set methods"
   ]
  },
  {
   "cell_type": "code",
   "execution_count": 414,
   "metadata": {},
   "outputs": [
    {
     "name": "stdout",
     "output_type": "stream",
     "text": [
      "set1 and 2: {'this', 'that', 'other'} {'those', 'this', 'these'}\n",
      "Intersection: {'this'}\n",
      "Difference: {'that', 'other'}\n",
      "Symmetric_difference: {'that', 'those', 'these', 'other'}\n",
      "Union: {'those', 'these', 'this', 'that', 'other'}\n"
     ]
    }
   ],
   "source": [
    "sample_set_1 = {\"this\", \"that\", \"other\"}\n",
    "sample_set_2 = {\"those\", \"this\", \"these\"}\n",
    "print(\"set1 and 2:\", sample_set_1, sample_set_2)\n",
    "\n",
    "# Intersection(set) Returns a set, that contains only values present in both sets\n",
    "print(\"Intersection:\", sample_set_1.intersection(sample_set_2))\n",
    "\n",
    "# setA.difference(setB) Returns a set, that only contains entries not in common from set A\n",
    "print(\"Difference:\", sample_set_1.difference(sample_set_2))\n",
    "\n",
    "# Symmetric_difference(set) Returns a set, that contains only values not in common with either set\n",
    "print(\"Symmetric_difference:\", sample_set_1.symmetric_difference(sample_set_2))\n",
    "\n",
    "# Union(set) Returns a set with values from both sets, no duplicates\n",
    "print(\"Union:\", sample_set_1.union(sample_set_2))"
   ]
  },
  {
   "cell_type": "markdown",
   "metadata": {},
   "source": [
    "## Dictionary\n",
    "#### Dicts are orderderd (since 3.7), mutable, allow duplicates and *un*indexed"
   ]
  },
  {
   "cell_type": "code",
   "execution_count": 415,
   "metadata": {},
   "outputs": [
    {
     "name": "stdout",
     "output_type": "stream",
     "text": [
      "{'name': 'Golf', 'size': 2, 'is_fast': True, 'type': 'electric'}\n"
     ]
    }
   ],
   "source": [
    "# Definition\n",
    "sample_dict = {\"name\": \"Golf\", \"size\": 2, \"is_fast\": True, \"type\": \"electric\"}\n",
    "print(sample_dict)"
   ]
  },
  {
   "cell_type": "code",
   "execution_count": 416,
   "metadata": {},
   "outputs": [
    {
     "name": "stdout",
     "output_type": "stream",
     "text": [
      "key -> name: Golf\n",
      "key -> size: 2\n",
      "\n",
      "Keys:\n",
      "Golf\n",
      "2\n",
      "True\n",
      "electric\n",
      "\n",
      "Values:\n",
      "Golf\n",
      "2\n",
      "True\n",
      "electric\n"
     ]
    }
   ],
   "source": [
    "# Accessing keys / values and altering values\n",
    "\n",
    "# Key\n",
    "print(\"key -> name:\", sample_dict[\"name\"])\n",
    "\n",
    "# Get\n",
    "print(\"key -> size:\", sample_dict.get(\"size\"))\n",
    "\n",
    "# Keys\n",
    "print(\"\\nKeys:\")\n",
    "for key in sample_dict.keys():\n",
    "    print(sample_dict[key])\n",
    "\n",
    "# Values\n",
    "print(\"\\nValues:\")\n",
    "for value in sample_dict.values():\n",
    "    print(value)"
   ]
  },
  {
   "cell_type": "code",
   "execution_count": 417,
   "metadata": {},
   "outputs": [
    {
     "name": "stdout",
     "output_type": "stream",
     "text": [
      "key -> type: gasoline\n",
      "dict: {'name': 'Golf', 'size': 2, 'is_fast': True, 'type': 'flying'}\n"
     ]
    }
   ],
   "source": [
    "# Altering values\n",
    "\n",
    "# By key\n",
    "sample_dict[\"type\"] = \"gasoline\"\n",
    "print(\"key -> type:\", sample_dict[\"type\"])\n",
    "\n",
    "# By update()\n",
    "sample_dict.update({\"type\": \"flying\"})\n",
    "print(\"dict:\", sample_dict)\n"
   ]
  },
  {
   "cell_type": "code",
   "execution_count": 418,
   "metadata": {},
   "outputs": [
    {
     "name": "stdout",
     "output_type": "stream",
     "text": [
      "key -> color: red\n",
      "dict: {'name': 'Golf', 'size': 2, 'is_fast': True, 'type': 'flying', 'color': 'red', 'engine': 'V-8'}\n"
     ]
    }
   ],
   "source": [
    "# Adding key / values\n",
    "\n",
    "# By key\n",
    "sample_dict[\"color\"] = \"red\"\n",
    "print(\"key -> color:\", sample_dict[\"color\"])\n",
    "\n",
    "# By update()\n",
    "sample_dict.update({\"engine\": \"V-8\"})\n",
    "print(\"dict:\", sample_dict)"
   ]
  },
  {
   "cell_type": "code",
   "execution_count": 419,
   "metadata": {},
   "outputs": [
    {
     "name": "stdout",
     "output_type": "stream",
     "text": [
      "dict -color    : {'name': 'Golf', 'size': 2, 'is_fast': True, 'type': 'flying', 'engine': 'V-8'}\n",
      "dict           : {'name': 'Golf', 'size': 2, 'is_fast': True, 'type': 'flying'}\n",
      "dict - is_fast : {'name': 'Golf', 'size': 2, 'type': 'flying'}\n",
      "Exception was thrown.\n"
     ]
    }
   ],
   "source": [
    "# Removing key / values\n",
    "\n",
    "# pop(key)\n",
    "sample_dict.pop(\"color\")\n",
    "print(\"dict -color    :\", sample_dict)\n",
    "\n",
    "# popitem() removes last item\n",
    "sample_dict.popitem()\n",
    "print(\"dict           :\", sample_dict)\n",
    "\n",
    "# del dict[key]\n",
    "del sample_dict[\"is_fast\"]\n",
    "print(\"dict - is_fast :\", sample_dict)\n",
    "\n",
    "# del dict\n",
    "del sample_dict\n",
    "try:\n",
    "    print(sample_dict) # Will throw exception because it doesnt exit\n",
    "except Exception:\n",
    "    print(\"Exception was thrown.\")\n",
    "    pass"
   ]
  },
  {
   "cell_type": "markdown",
   "metadata": {},
   "source": [
    "## List, Tuple, Set and Dict comprehension & examples\n",
    "### List:"
   ]
  },
  {
   "cell_type": "code",
   "execution_count": 420,
   "metadata": {},
   "outputs": [
    {
     "name": "stdout",
     "output_type": "stream",
     "text": [
      "upper_list  : ['THIS', 'LIST', 'IS', 'TOO', 'LOWERCASE']\n",
      "kinda_lower : ['this', 'list', 'Is', 'Too', 'lowercase']\n",
      "short_words : ['IsIs', 'TooToo']\n",
      "new_list    : ['Golf', 2, True, 'electric']\n",
      "new_list    : [1, 4, 5, 2]\n",
      "new_list    : [1, 'this', 'that']\n"
     ]
    }
   ],
   "source": [
    "# List comprehension\n",
    "list1 = [\"this\", \"list\", \"is\", \"too\", \"lowercase\"]\n",
    "\n",
    "# Regular\n",
    "upper_list = [x.upper() for x in list1]\n",
    "print(\"upper_list  :\", upper_list)\n",
    "\n",
    "# Conditional\n",
    "kinda_lower = [x.lower() if len(x) > 3 else x.title() for x in upper_list]\n",
    "print(\"kinda_lower :\", kinda_lower)\n",
    "\n",
    "# Filter for short and double\n",
    "short_words = [x*2 for x in kinda_lower if len(x) <= 3]\n",
    "print(\"short_words :\", short_words)\n",
    "\n",
    "# From any type\n",
    "new_list = [x for x in {\"name\": \"Golf\", \"size\": 2, \"is_fast\": True, \"type\": \"electric\"}.values()]\n",
    "print(\"new_list    :\", new_list)\n",
    "new_list = [x for x in (1, 4, 5, 2)]\n",
    "print(\"new_list    :\", new_list)\n",
    "new_list = [x for x in {\"this\", \"that\", 1}]\n",
    "print(\"new_list    :\", new_list)"
   ]
  },
  {
   "cell_type": "markdown",
   "metadata": {},
   "source": [
    "### Tuple:"
   ]
  },
  {
   "cell_type": "code",
   "execution_count": 421,
   "metadata": {},
   "outputs": [
    {
     "name": "stdout",
     "output_type": "stream",
     "text": [
      "generatade tuple       : (1, 4, 16, 25, 36, 49, 64, 81, 100)\n",
      "same but smaller values: (1, 4, 16, 25, 36, 49)\n",
      "alternative generation : (0, 1, 4, 9, 16, 25, 36, 49, 64, 81, 100)\n"
     ]
    }
   ],
   "source": [
    "# Tuple comprehension\n",
    "# Whoops! there is no native tupple comprehension, but we can use a generator expression to mimic it instead!\n",
    "\n",
    "comprehensive_tuple = tuple(x*x for x in range(1,11) if x*x != 9)\n",
    "print(\"generatade tuple       :\", comprehensive_tuple)\n",
    "\n",
    "smaller_tuple = tuple(x for x in comprehensive_tuple if x < 50)\n",
    "print(\"same but smaller values:\", smaller_tuple)\n",
    "\n",
    "# Another alternative is:\n",
    "another_tuple = tuple([x*x for x in range(0,11)])\n",
    "print(\"alternative generation :\", another_tuple)"
   ]
  },
  {
   "cell_type": "markdown",
   "metadata": {},
   "source": [
    "### Set:"
   ]
  },
  {
   "cell_type": "code",
   "execution_count": 422,
   "metadata": {},
   "outputs": [
    {
     "name": "stdout",
     "output_type": "stream",
     "text": [
      "cool_set   : {0, 160000, 40000, 360000, 640000, 10000, 90000, 250000, 490000, 810000}\n",
      "another_one: {'cool', 'bro', 'set'}\n"
     ]
    }
   ],
   "source": [
    "# Set comprehension\n",
    "cool_set = {x*x for x in range(0, 1000) if (x*x)%1000 == 0}\n",
    "print(\"cool_set   :\", cool_set)\n",
    "\n",
    "another_one = {x.lower() for x in [\"COol\", \"sEt\", \"BRo\"]}\n",
    "print(\"another_one:\", another_one)"
   ]
  },
  {
   "cell_type": "markdown",
   "metadata": {},
   "source": [
    "### Dict:"
   ]
  },
  {
   "cell_type": "code",
   "execution_count": 423,
   "metadata": {},
   "outputs": [
    {
     "name": "stdout",
     "output_type": "stream",
     "text": [
      "student dict      : {'name': 'Peter', 'age': '12', 'sex': 'Other'}\n",
      "cubed numbers 1-10: {1: 1, 2: 8, 3: 27, 4: 64, 5: 125, 6: 216, 7: 343, 8: 512, 9: 729, 10: 1000}\n"
     ]
    }
   ],
   "source": [
    "# Dict comprehension\n",
    "keys_list = [\"name\", \"age\", \"sex\"]\n",
    "value_list = [\"Peter\", \"12\", \"Other\"]\n",
    "student_dict = {key:value for (key, value) in zip(keys_list, value_list)}\n",
    "print(\"student dict      :\", student_dict)\n",
    "\n",
    "cubed = {x: x**3 for x in range(1, 11)}\n",
    "print(\"cubed numbers 1-10:\", cubed)\n"
   ]
  },
  {
   "cell_type": "markdown",
   "metadata": {},
   "source": [
    "## Functions\n",
    "### How to declare them"
   ]
  },
  {
   "cell_type": "code",
   "execution_count": 424,
   "metadata": {},
   "outputs": [],
   "source": [
    "# Declaring a function\n",
    "def plus_ten(number):\n",
    "    return number + 10\n",
    "\n",
    "def numbers_plus_ten(*numbers):\n",
    "    number_list = []\n",
    "    for number in numbers:\n",
    "        number_list.append(number + 10)\n",
    "    return number_list\n",
    "\n",
    "def rent_calculation_kr(**keys):\n",
    "    # base * (1 + rent)^years\n",
    "    x = keys[\"base\"]\n",
    "    y = (1 + keys[\"rent\"])\n",
    "    z = pow(y,keys[\"years\"])\n",
    "    return str(round(x*z)) + \",00 DKK\"\n",
    "\n"
   ]
  },
  {
   "cell_type": "markdown",
   "metadata": {},
   "source": [
    "### How to call a function"
   ]
  },
  {
   "cell_type": "code",
   "execution_count": 425,
   "metadata": {},
   "outputs": [
    {
     "name": "stdout",
     "output_type": "stream",
     "text": [
      "15\n",
      "[25, 60, 20]\n",
      "2594,00 DKK\n"
     ]
    }
   ],
   "source": [
    "# Calling functions\n",
    "print(plus_ten(5))\n",
    "\n",
    "print(numbers_plus_ten(15, 50, 10))\n",
    "\n",
    "print(rent_calculation_kr(base=1000, rent=0.10, years=10))"
   ]
  }
 ],
 "metadata": {
  "interpreter": {
   "hash": "31f2aee4e71d21fbe5cf8b01ff0e069b9275f58929596ceb00d14d90e3e16cd6"
  },
  "kernelspec": {
   "display_name": "Python 3.8.6 64-bit",
   "name": "python3"
  },
  "language_info": {
   "codemirror_mode": {
    "name": "ipython",
    "version": 3
   },
   "file_extension": ".py",
   "mimetype": "text/x-python",
   "name": "python",
   "nbconvert_exporter": "python",
   "pygments_lexer": "ipython3",
   "version": "3.8.6"
  },
  "orig_nbformat": 4
 },
 "nbformat": 4,
 "nbformat_minor": 2
}