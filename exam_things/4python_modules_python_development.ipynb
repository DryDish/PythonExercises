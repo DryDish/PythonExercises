{
 "cells": [
  {
   "cell_type": "markdown",
   "metadata": {},
   "source": [
    "# Python Modules & Development Environment \n",
    "## Built in Modules\n",
    "### OS"
   ]
  },
  {
   "cell_type": "code",
   "execution_count": 7,
   "metadata": {},
   "outputs": [
    {
     "name": "stdout",
     "output_type": "stream",
     "text": [
      "<DirEntry '3generators_decorators_context_managers.ipynb'>\n",
      "<DirEntry 'docker'>\n",
      "<DirEntry 'text.txt'>\n",
      "<DirEntry '1data_structures_and_functions.ipynb'>\n",
      "<DirEntry 'ExamSynopsisPython.pdf'>\n",
      "<DirEntry '2pythonic_oop.ipynb'>\n",
      "<DirEntry 'strings.ipynb'>\n",
      "<DirEntry 'file'>\n",
      "<DirEntry '4python_modules_python_development.ipynb'>\n",
      "--- Now in docker folder ---\n",
      "<DirEntry 'Dockerfile'>\n",
      "<DirEntry 'DockerProcess.txt'>\n",
      "--- After making folder ---\n",
      "<DirEntry 'Dockerfile'>\n",
      "<DirEntry 'temp_folder'>\n",
      "<DirEntry 'DockerProcess.txt'>\n",
      "--- After removing folder ---\n",
      "<DirEntry 'Dockerfile'>\n",
      "<DirEntry 'DockerProcess.txt'>\n"
     ]
    }
   ],
   "source": [
    "# OS is a module used to navigate the OS the person is using\n",
    "# Here are some examples\n",
    "import os\n",
    "s = \"this\"\n",
    "\n",
    "# see a list of files and directories\n",
    "with os.scandir() as entries:\n",
    "    for entry in entries:\n",
    "        print(entry)\n",
    "\n",
    "os.chdir(\"docker\")\n",
    "print(\"--- Now in docker folder ---\")\n",
    "with os.scandir() as entries:\n",
    "    for entry in entries:\n",
    "        print(entry)\n",
    "\n",
    "os.mkdir(\"temp_folder\")\n",
    "\n",
    "print(\"--- After making folder ---\")\n",
    "with os.scandir() as entries:\n",
    "    for entry in entries:\n",
    "        print(entry)\n",
    "\n",
    "# Remove folder\n",
    "os.rmdir(\"temp_folder\")\n",
    "\n",
    "print(\"--- After removing folder ---\")\n",
    "with os.scandir() as entries:\n",
    "    for entry in entries:\n",
    "        print(entry)\n",
    "# Return to previous folder\n",
    "os.chdir(\"..\")"
   ]
  },
  {
   "cell_type": "markdown",
   "metadata": {},
   "source": [
    "### sys"
   ]
  },
  {
   "cell_type": "code",
   "execution_count": 8,
   "metadata": {},
   "outputs": [],
   "source": [
    "# sys info and examples"
   ]
  },
  {
   "cell_type": "markdown",
   "metadata": {},
   "source": [
    "## Third pary modules\n",
    "### pip"
   ]
  },
  {
   "cell_type": "code",
   "execution_count": 9,
   "metadata": {},
   "outputs": [],
   "source": [
    "# Pip info and examples"
   ]
  },
  {
   "cell_type": "markdown",
   "metadata": {},
   "source": [
    "## Development Environment\n",
    "### Docker"
   ]
  },
  {
   "cell_type": "code",
   "execution_count": 10,
   "metadata": {},
   "outputs": [],
   "source": [
    "# Docker examples here"
   ]
  },
  {
   "cell_type": "markdown",
   "metadata": {},
   "source": [
    "### VS-Code"
   ]
  },
  {
   "cell_type": "code",
   "execution_count": 11,
   "metadata": {},
   "outputs": [],
   "source": [
    "# VS-code examples\n",
    "    #running with docker\n",
    "    #Running regularly"
   ]
  },
  {
   "cell_type": "markdown",
   "metadata": {},
   "source": [
    "### Python REPL"
   ]
  },
  {
   "cell_type": "code",
   "execution_count": 12,
   "metadata": {},
   "outputs": [],
   "source": [
    "# python3\n",
    "# ipython (jupyter console)"
   ]
  }
 ],
 "metadata": {
  "interpreter": {
   "hash": "31f2aee4e71d21fbe5cf8b01ff0e069b9275f58929596ceb00d14d90e3e16cd6"
  },
  "kernelspec": {
   "display_name": "Python 3.8.6 64-bit",
   "name": "python3"
  },
  "language_info": {
   "codemirror_mode": {
    "name": "ipython",
    "version": 3
   },
   "file_extension": ".py",
   "mimetype": "text/x-python",
   "name": "python",
   "nbconvert_exporter": "python",
   "pygments_lexer": "ipython3",
   "version": "3.8.6"
  },
  "orig_nbformat": 4
 },
 "nbformat": 4,
 "nbformat_minor": 2
}