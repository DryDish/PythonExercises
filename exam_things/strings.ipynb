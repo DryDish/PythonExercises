{
 "metadata": {
  "language_info": {
   "codemirror_mode": {
    "name": "ipython",
    "version": 3
   },
   "file_extension": ".py",
   "mimetype": "text/x-python",
   "name": "python",
   "nbconvert_exporter": "python",
   "pygments_lexer": "ipython3",
   "version": "3.8.6"
  },
  "orig_nbformat": 4,
  "kernelspec": {
   "name": "python3",
   "display_name": "Python 3.8.6 64-bit"
  },
  "interpreter": {
   "hash": "31f2aee4e71d21fbe5cf8b01ff0e069b9275f58929596ceb00d14d90e3e16cd6"
  }
 },
 "nbformat": 4,
 "nbformat_minor": 2,
 "cells": [
  {
   "cell_type": "code",
   "execution_count": 2,
   "metadata": {},
   "outputs": [
    {
     "output_type": "stream",
     "name": "stdout",
     "text": [
      "String: Anders\n\n"
     ]
    }
   ],
   "source": [
    "s = \"Anders\"\n",
    "print(f\"String: {s}\\n\")"
   ]
  },
  {
   "source": [
    "### String by Index"
   ],
   "cell_type": "markdown",
   "metadata": {}
  },
  {
   "cell_type": "code",
   "execution_count": 3,
   "metadata": {},
   "outputs": [
    {
     "output_type": "stream",
     "name": "stdout",
     "text": [
      "Index 0: A\nIndex 5 s\n"
     ]
    }
   ],
   "source": [
    "print(\"Index 0: \" + s[0])\n",
    "print(\"Index 5 \" + s[5])"
   ]
  },
  {
   "source": [
    "### String by Slicing\n",
    "#### 0 index system, from start to last number -> exclusive"
   ],
   "cell_type": "markdown",
   "metadata": {}
  },
  {
   "cell_type": "code",
   "execution_count": 4,
   "metadata": {},
   "outputs": [
    {
     "output_type": "stream",
     "name": "stdout",
     "text": [
      "From 1 to 4: nde\nFrom -4 to -1: der\n"
     ]
    }
   ],
   "source": [
    "print(\"From 1 to 4: \" + s[1:4])\n",
    "print(\"From -4 to -1: \" + s[-4:-1])"
   ]
  },
  {
   "source": [
    "#### If no start or end is specified, the file will go to the appropriate end"
   ],
   "cell_type": "markdown",
   "metadata": {}
  },
  {
   "cell_type": "code",
   "execution_count": 5,
   "metadata": {},
   "outputs": [
    {
     "output_type": "stream",
     "name": "stdout",
     "text": [
      "From -5 to end: nders\nFrom start to -1: Ander\n"
     ]
    }
   ],
   "source": [
    "print(\"From -5 to end: \" + s[-5:])\n",
    "print(\"From start to -1: \" + s[:-1])"
   ]
  },
  {
   "source": [
    "### String by Stride\n",
    "#### Iterates every n as defined by Stride"
   ],
   "cell_type": "markdown",
   "metadata": {}
  },
  {
   "cell_type": "code",
   "execution_count": 6,
   "metadata": {},
   "outputs": [
    {
     "output_type": "stream",
     "name": "stdout",
     "text": [
      "Stride val 2: Adr\nFrom 1 to 5 Stride val 2:  ne\n"
     ]
    }
   ],
   "source": [
    "print(\"Stride val 2: \" + s[::2])\n",
    "print(\"From 1 to 5 Stride val 2: \", s[1:4:2])"
   ]
  },
  {
   "source": [
    "#### If the Stride value is negative, it will iterate backwards"
   ],
   "cell_type": "markdown",
   "metadata": {}
  },
  {
   "cell_type": "code",
   "execution_count": 7,
   "metadata": {},
   "outputs": [
    {
     "output_type": "stream",
     "name": "stdout",
     "text": [
      "Stride val -1:  srednA\nStride val -1 from 5 to 1: sred\nStride val -2: sen\n"
     ]
    }
   ],
   "source": [
    "print(\"Stride val -1: \", s[::-1])\n",
    "print(\"Stride val -1 from 5 to 1: \" + s[5:1:-1])\n",
    "print(\"Stride val -2: \" + s[::-2])"
   ]
  },
  {
   "cell_type": "code",
   "execution_count": null,
   "metadata": {},
   "outputs": [],
   "source": []
  },
  {
   "cell_type": "code",
   "execution_count": null,
   "metadata": {},
   "outputs": [],
   "source": []
  }
 ]
}