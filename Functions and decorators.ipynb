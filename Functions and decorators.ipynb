{
 "cells": [
  {
   "cell_type": "markdown",
   "id": "sized-maximum",
   "metadata": {},
   "source": [
    "# Functions & Decorators"
   ]
  },
  {
   "cell_type": "markdown",
   "id": "silent-despite",
   "metadata": {},
   "source": [
    "## First class functions"
   ]
  },
  {
   "cell_type": "markdown",
   "id": "given-muscle",
   "metadata": {},
   "source": [
    "https://www.youtube.com/watch?v=r7Dtus7N4pI"
   ]
  },
  {
   "cell_type": "code",
   "execution_count": 1,
   "id": "national-compromise",
   "metadata": {},
   "outputs": [],
   "source": [
    "def my_first_function(x):\n",
    "    print(x)"
   ]
  },
  {
   "cell_type": "code",
   "execution_count": 2,
   "id": "dated-video",
   "metadata": {},
   "outputs": [],
   "source": [
    "def greet():\n",
    "    return 'Hello'"
   ]
  },
  {
   "cell_type": "code",
   "execution_count": 3,
   "id": "becoming-graphic",
   "metadata": {},
   "outputs": [
    {
     "name": "stdout",
     "output_type": "stream",
     "text": [
      "<function greet at 0x7f7cec7835e0>\n"
     ]
    }
   ],
   "source": [
    "my_first_function(greet)"
   ]
  },
  {
   "cell_type": "markdown",
   "id": "turkish-inclusion",
   "metadata": {},
   "source": [
    "## Inner functions"
   ]
  },
  {
   "cell_type": "code",
   "execution_count": 4,
   "id": "infectious-apple",
   "metadata": {},
   "outputs": [],
   "source": [
    "def foo():\n",
    "    def inner():\n",
    "        return 'inner msg'\n",
    "    \n",
    "    #print(inner())\n",
    "    return inner"
   ]
  },
  {
   "cell_type": "code",
   "execution_count": 5,
   "id": "thermal-architecture",
   "metadata": {},
   "outputs": [
    {
     "data": {
      "text/plain": [
       "'inner msg'"
      ]
     },
     "execution_count": 5,
     "metadata": {},
     "output_type": "execute_result"
    }
   ],
   "source": [
    "foo()()"
   ]
  },
  {
   "cell_type": "markdown",
   "id": "outside-register",
   "metadata": {},
   "source": [
    "## Decorators"
   ]
  },
  {
   "cell_type": "markdown",
   "id": "coral-cooper",
   "metadata": {},
   "source": [
    "### simple (why tho?)"
   ]
  },
  {
   "cell_type": "code",
   "execution_count": 6,
   "id": "voluntary-reach",
   "metadata": {},
   "outputs": [],
   "source": [
    "def my_decorator(func):\n",
    "    def wrapper():\n",
    "        print(\"This is done before function exec\")\n",
    "        func()\n",
    "        print(\"This is done after function exec\")\n",
    "    return wrapper"
   ]
  },
  {
   "cell_type": "code",
   "execution_count": 7,
   "id": "descending-agency",
   "metadata": {},
   "outputs": [],
   "source": [
    "def greet():\n",
    "    print(\"Hello\")"
   ]
  },
  {
   "cell_type": "code",
   "execution_count": 8,
   "id": "adjusted-afghanistan",
   "metadata": {},
   "outputs": [
    {
     "name": "stdout",
     "output_type": "stream",
     "text": [
      "This is done before function exec\n",
      "Hello\n",
      "This is done after function exec\n"
     ]
    }
   ],
   "source": [
    "greet = my_decorator(greet)\n",
    "greet()"
   ]
  },
  {
   "cell_type": "code",
   "execution_count": 9,
   "id": "vertical-castle",
   "metadata": {},
   "outputs": [],
   "source": [
    "### syntactic sugar"
   ]
  },
  {
   "cell_type": "code",
   "execution_count": 10,
   "id": "included-heading",
   "metadata": {},
   "outputs": [],
   "source": [
    "@my_decorator\n",
    "def greet2():\n",
    "    print(\"Hello\")"
   ]
  },
  {
   "cell_type": "code",
   "execution_count": 11,
   "id": "middle-liberal",
   "metadata": {},
   "outputs": [
    {
     "name": "stdout",
     "output_type": "stream",
     "text": [
      "This is done before function exec\n",
      "Hello\n",
      "This is done after function exec\n"
     ]
    }
   ],
   "source": [
    "greet2() # actually the wrapper()"
   ]
  },
  {
   "cell_type": "markdown",
   "id": "angry-strap",
   "metadata": {},
   "source": [
    "## Decorating functions with arguments"
   ]
  },
  {
   "cell_type": "code",
   "execution_count": 12,
   "id": "toxic-prior",
   "metadata": {},
   "outputs": [],
   "source": [
    "def my_decorator(func):\n",
    "    def wrapper(*args, **kwargs):\n",
    "        print(\"This is done before function exec\")\n",
    "        func(*args, **kwargs)\n",
    "        print(\"This is done after function exec\")\n",
    "    return wrapper"
   ]
  },
  {
   "cell_type": "code",
   "execution_count": 13,
   "id": "intellectual-trainer",
   "metadata": {},
   "outputs": [],
   "source": [
    "@my_decorator\n",
    "def greet(name, sir):\n",
    "    print(f'Hello {name} {sir}')"
   ]
  },
  {
   "cell_type": "code",
   "execution_count": 14,
   "id": "moved-compilation",
   "metadata": {},
   "outputs": [
    {
     "name": "stdout",
     "output_type": "stream",
     "text": [
      "This is done before function exec\n",
      "Hello peter Angel\n",
      "This is done after function exec\n"
     ]
    }
   ],
   "source": [
    "greet('peter', 'Angel')"
   ]
  },
  {
   "cell_type": "code",
   "execution_count": 15,
   "id": "adaptive-jumping",
   "metadata": {},
   "outputs": [],
   "source": [
    "@my_decorator\n",
    "def msg(xxx):\n",
    "    print(xxx)"
   ]
  },
  {
   "cell_type": "code",
   "execution_count": 16,
   "id": "pressed-claim",
   "metadata": {},
   "outputs": [
    {
     "name": "stdout",
     "output_type": "stream",
     "text": [
      "This is done before function exec\n",
      "text goes here my mans\n",
      "This is done after function exec\n"
     ]
    }
   ],
   "source": [
    "msg(\"text goes here my mans\")"
   ]
  },
  {
   "cell_type": "markdown",
   "id": "flush-slide",
   "metadata": {},
   "source": [
    "### Returning values from Decorated functions"
   ]
  },
  {
   "cell_type": "code",
   "execution_count": 19,
   "id": "organizational-maine",
   "metadata": {},
   "outputs": [],
   "source": [
    "def my_decorator(func):\n",
    "    def wrapper(*args):\n",
    "        x = 'From wrapper before execution'\n",
    "        x += func(*args)\n",
    "        x += 'From wrapper after execution'\n",
    "        return x\n",
    "    return wrapper"
   ]
  },
  {
   "cell_type": "code",
   "execution_count": 20,
   "id": "empty-blackjack",
   "metadata": {},
   "outputs": [],
   "source": [
    "@my_decorator\n",
    "def greet(name):\n",
    "    return f'Hello {name}'"
   ]
  },
  {
   "cell_type": "code",
   "execution_count": 21,
   "id": "another-bedroom",
   "metadata": {},
   "outputs": [
    {
     "data": {
      "text/plain": [
       "'From wrapper before executionHello AlexFrom wrapper after execution'"
      ]
     },
     "execution_count": 21,
     "metadata": {},
     "output_type": "execute_result"
    }
   ],
   "source": [
    "greet('Alex')"
   ]
  },
  {
   "cell_type": "code",
   "execution_count": null,
   "id": "lesser-worse",
   "metadata": {},
   "outputs": [],
   "source": []
  }
 ],
 "metadata": {
  "kernelspec": {
   "display_name": "Python 3",
   "language": "python",
   "name": "python3"
  },
  "language_info": {
   "codemirror_mode": {
    "name": "ipython",
    "version": 3
   },
   "file_extension": ".py",
   "mimetype": "text/x-python",
   "name": "python",
   "nbconvert_exporter": "python",
   "pygments_lexer": "ipython3",
   "version": "3.8.8"
  }
 },
 "nbformat": 4,
 "nbformat_minor": 5
}
